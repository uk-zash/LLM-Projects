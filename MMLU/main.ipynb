{
 "cells": [
  {
   "cell_type": "code",
   "execution_count": null,
   "metadata": {},
   "outputs": [],
   "source": [
    "from transformers import AutoModelForMultipleChoice, AutoTokenizer\n",
    "model = AutoModelForMultipleChoice.from_pretrained('your-model-name')\n",
    "tokenizer = AutoTokenizer.from_pretrained('your-model-name')\n"
   ]
  },
  {
   "cell_type": "code",
   "execution_count": null,
   "metadata": {},
   "outputs": [],
   "source": [
    "questions = [\n",
    "    {\n",
    "        \"question\": \"What is the capital of France?\",\n",
    "        \"choices\": [\"Berlin\", \"Madrid\", \"Paris\", \"Rome\"],\n",
    "        \"answer\": \"Paris\"\n",
    "    },\n",
    "    {\n",
    "        \"question\": \"Who wrote 'Romeo and Juliet'?\",\n",
    "        \"choices\": [\"Shakespeare\", \"Dickens\", \"Austen\", \"Hemingway\"],\n",
    "        \"answer\": \"Shakespeare\"\n",
    "    },\n",
    "    # Add more questions here\n",
    "]\n"
   ]
  },
  {
   "cell_type": "code",
   "execution_count": null,
   "metadata": {},
   "outputs": [],
   "source": [
    "inputs = tokenizer([q[\"question\"] + \" \" + \" \".join(q[\"choices\"]) for q in questions], padding=True, return_tensors=\"pt\")\n",
    "outputs = model(**inputs)\n",
    "predictions = outputs.logits.argmax(dim=-1)\n"
   ]
  },
  {
   "cell_type": "code",
   "execution_count": null,
   "metadata": {},
   "outputs": [],
   "source": [
    "correct = 0\n",
    "for idx, prediction in enumerate(predictions):\n",
    "    if questions[idx][\"choices\"][prediction] == questions[idx][\"answer\"]:\n",
    "        correct += 1\n",
    "\n",
    "accuracy = correct / len(questions) * 100\n",
    "print(f\"Accuracy: {accuracy}%\")\n"
   ]
  }
 ],
 "metadata": {
  "kernelspec": {
   "display_name": "Python 3",
   "language": "python",
   "name": "python3"
  },
  "language_info": {
   "name": "python",
   "version": "3.11.9"
  }
 },
 "nbformat": 4,
 "nbformat_minor": 2
}
